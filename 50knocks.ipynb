{
 "cells": [
  {
   "cell_type": "markdown",
   "id": "f61a7473",
   "metadata": {},
   "source": [
    "# データサイエンス50問 - Polars"
   ]
  },
  {
   "cell_type": "code",
   "execution_count": null,
   "id": "22b63557",
   "metadata": {},
   "outputs": [],
   "source": [
    "!pip install polars"
   ]
  },
  {
   "cell_type": "code",
   "execution_count": null,
   "id": "97270a36",
   "metadata": {},
   "outputs": [],
   "source": [
    "\"\"\"\n",
    "Based on: Data Processing 100 Knocks by The Japan DataScientist Society\n",
    "Original Repository: https://github.com/The-Japan-DataScientist-Society/100knocks-preprocess\n",
    "\"\"\"\n",
    "import os\n",
    "import polars as pl\n",
    "from matplotlib import pyplot as plt\n",
    "plt.rcParams['font.family'] = ['IPAexGothic']"
   ]
  },
  {
   "cell_type": "code",
   "execution_count": 2,
   "id": "d6c4cb00",
   "metadata": {},
   "outputs": [
    {
     "data": {
      "text/plain": [
       "'1.33.1'"
      ]
     },
     "execution_count": 2,
     "metadata": {},
     "output_type": "execute_result"
    }
   ],
   "source": [
    "pl.__version__"
   ]
  },
  {
   "cell_type": "code",
   "execution_count": null,
   "id": "6610cdda",
   "metadata": {},
   "outputs": [],
   "source": [
    "dtypes = {\n",
    "    'customer_id': str,\n",
    "    'gender_cd': str,\n",
    "    'postal_cd': str,\n",
    "    'application_store_cd': str,\n",
    "    'status_cd': str,\n",
    "    'category_major_cd': str,\n",
    "    'category_medium_cd': str,\n",
    "    'category_small_cd': str,\n",
    "    'product_cd': str,\n",
    "    'store_cd': str,\n",
    "    'prefecture_cd': str,\n",
    "    'tel_no': str,\n",
    "    'postal_cd': str,\n",
    "    'street': str,\n",
    "    'application_date': str,\n",
    "    'birth_day': pl.Date\n",
    "}\n",
    "\n",
    "df_customer = pl.read_csv('./data/customer.csv', schema_overrides=dtypes, encoding='utf-8-sig')\n",
    "df_receipt = pl.read_csv('./data/receipt.csv', schema_overrides=dtypes, encoding='utf-8-sig')\n",
    "df_product = pl.read_csv('./data/product.csv', schema_overrides=dtypes, encoding='utf-8-sig')\n",
    "df_category = pl.read_csv('./data/category.csv', schema_overrides=dtypes, encoding='utf-8-sig')\n",
    "df_store = pl.read_csv('./data/store.csv', schema_overrides=dtypes, encoding='utf-8-sig')\n",
    "df_geocode = pl.read_csv('./data/geocode.csv', schema_overrides=dtypes, encoding='utf-8-sig')"
   ]
  },
  {
   "cell_type": "markdown",
   "id": "86d8b321",
   "metadata": {},
   "source": [
    "### ここからの問題にPolarsを用いて取り組むこと"
   ]
  },
  {
   "cell_type": "markdown",
   "id": "ced04fd5",
   "metadata": {},
   "source": [
    "問題1\n",
    "\n",
    "どのようなデータを保有しているか目視確認できるように、レシート明細データ（df_receipt）から全項目の先頭5件を表示せよ。"
   ]
  },
  {
   "cell_type": "markdown",
   "id": "e16b4235",
   "metadata": {},
   "source": [
    "<img src=\"https://i.gyazo.com/6531a5f636245f384ace6400d8e40861.png\" width=70%>"
   ]
  },
  {
   "cell_type": "code",
   "execution_count": null,
   "id": "7cc3c143",
   "metadata": {},
   "outputs": [],
   "source": []
  },
  {
   "cell_type": "markdown",
   "id": "08f14cdb",
   "metadata": {},
   "source": [
    "問題2\n",
    "\n",
    "レシート明細データ（df_receipt）から売上年月日（sales_ymd）、顧客ID（customer_id）、商品コード（product_cd）、売上金額（amount）の順に列を指定し、5件表示せよ。"
   ]
  },
  {
   "cell_type": "markdown",
   "id": "2028a340",
   "metadata": {},
   "source": [
    "<img src=\"https://i.gyazo.com/1445da71429b477b0a898bc7039666b9.png\" width=\"400px\">"
   ]
  },
  {
   "cell_type": "code",
   "execution_count": null,
   "id": "bfbb04d8",
   "metadata": {},
   "outputs": [],
   "source": []
  },
  {
   "cell_type": "markdown",
   "id": "f0bb69f9",
   "metadata": {},
   "source": [
    "問題3\n",
    "\n",
    "レシート明細データ（df_receipt）から売上年月日（sales_ymd）、顧客ID（customer_id）、商品コード（product_cd）、売上金額（amount）の順に列を指定し、5件表示せよ。ただし、sales_ymdという項目名については、sales_dateに変更して抽出すること。"
   ]
  },
  {
   "cell_type": "markdown",
   "id": "73057c9e",
   "metadata": {},
   "source": [
    "\n",
    "<img src=\"https://i.gyazo.com/47f0bb5d9642b0633a0ea411c3c94882.png\"  width=\"400px\">"
   ]
  },
  {
   "cell_type": "code",
   "execution_count": null,
   "id": "c1d8374e",
   "metadata": {},
   "outputs": [],
   "source": []
  },
  {
   "cell_type": "markdown",
   "id": "2b6fc745",
   "metadata": {},
   "source": [
    "問題4\n",
    "\n",
    "レシート明細データ（df_receipt）から売上日（sales_ymd）、顧客ID（customer_id）、商品コード（product_cd）、売上金額（amount）の順に列を指定し、以下の条件を満たすデータを抽出し、先頭の5件を表示せよ。\n",
    "> - 顧客ID（customer_id）が\"CS018205000001\""
   ]
  },
  {
   "cell_type": "markdown",
   "id": "192a71b5",
   "metadata": {},
   "source": [
    "<img src=\"https://i.gyazo.com/7ed7be141e0a4ae0927f921892869ca2.png\"  width=\"400px\">"
   ]
  },
  {
   "cell_type": "code",
   "execution_count": null,
   "id": "a3d58bf6",
   "metadata": {},
   "outputs": [],
   "source": []
  },
  {
   "cell_type": "markdown",
   "id": "1ba03950",
   "metadata": {},
   "source": [
    "問題5\n",
    "\n",
    "レシート明細データ（df_receipt）から売上日（sales_ymd）、顧客ID（customer_id）、商品コード（product_cd）、売上金額（amount）の順に列を指定し、以下の全ての条件を満たすデータを抽出せよ。\n",
    "> - 顧客ID（customer_id）が\"CS018205000001\"\n",
    "> - 売上金額（amount）が1,000以上"
   ]
  },
  {
   "cell_type": "markdown",
   "id": "2e9e28f1",
   "metadata": {},
   "source": [
    "<img src=\"https://i.gyazo.com/7ad9b149fcd219db6829838881013a79.png\"  width=\"400px\">"
   ]
  },
  {
   "cell_type": "code",
   "execution_count": null,
   "id": "066aeadd",
   "metadata": {},
   "outputs": [],
   "source": []
  },
  {
   "cell_type": "markdown",
   "id": "ff48b171",
   "metadata": {},
   "source": [
    "問題6\n",
    "\n",
    "店舗データ（df_store）から、住所 (address) に\"横浜市\"が含まれるものだけを抽出し、先頭の5件を表示せよ。"
   ]
  },
  {
   "cell_type": "markdown",
   "id": "fefcc1d0",
   "metadata": {},
   "source": [
    "<img src=\"https://i.gyazo.com/26eb74c390635a6704f7cc41267e79a3.png\" width=80%>"
   ]
  },
  {
   "cell_type": "code",
   "execution_count": null,
   "id": "df187eac",
   "metadata": {},
   "outputs": [],
   "source": []
  },
  {
   "cell_type": "markdown",
   "id": "ce418ebf",
   "metadata": {},
   "source": [
    "問題7\n",
    "\n",
    "顧客データ（df_customer）を生年月日（birth_day）で高齢順にソートし、先頭から5件表示せよ。"
   ]
  },
  {
   "cell_type": "markdown",
   "id": "1e3c1b3b",
   "metadata": {},
   "source": [
    "<img src=\"https://i.gyazo.com/0842c9168b3021da451980dcd83c1ba9.png\" width=80%>"
   ]
  },
  {
   "cell_type": "code",
   "execution_count": null,
   "id": "a4d01a86",
   "metadata": {},
   "outputs": [],
   "source": []
  },
  {
   "cell_type": "markdown",
   "id": "e6875a65",
   "metadata": {},
   "source": [
    "問題8\n",
    "\n",
    "顧客データ（df_customer）を生年月日（birth_day）で若い順となるようにソートし、先頭から5件表示せよ。"
   ]
  },
  {
   "cell_type": "markdown",
   "id": "bbfe10c3",
   "metadata": {},
   "source": [
    "<img src=\"https://i.gyazo.com/285d0a57cd786e3bf0947ce2f76af125.png\" width=80%>"
   ]
  },
  {
   "cell_type": "code",
   "execution_count": null,
   "id": "a0170115",
   "metadata": {},
   "outputs": [],
   "source": []
  },
  {
   "cell_type": "markdown",
   "id": "ae390eca",
   "metadata": {},
   "source": [
    "問題9\n",
    "\n",
    "レシート明細データ（df_receipt）に対し、件数をカウントせよ。"
   ]
  },
  {
   "cell_type": "markdown",
   "id": "bfd7aaf5",
   "metadata": {},
   "source": [
    "<img src=\"https://i.gyazo.com/bb5dbb81d7aaf9783efbe69c12f8676c.png\">"
   ]
  },
  {
   "cell_type": "code",
   "execution_count": null,
   "id": "da1aed9e",
   "metadata": {},
   "outputs": [],
   "source": []
  },
  {
   "cell_type": "markdown",
   "id": "da268086",
   "metadata": {},
   "source": [
    "問題10\n",
    "\n",
    "レシート明細データ（df_receipt）の顧客ID（customer_id）に対し、ユニークな件数をカウントせよ。"
   ]
  },
  {
   "cell_type": "markdown",
   "id": "bfcad14f",
   "metadata": {},
   "source": [
    "<img src=\"https://i.gyazo.com/e59119c262ac028e8f59cb40fd1fac09.png\">"
   ]
  },
  {
   "cell_type": "code",
   "execution_count": null,
   "id": "7fcac323",
   "metadata": {},
   "outputs": [],
   "source": []
  },
  {
   "cell_type": "markdown",
   "id": "cba4b39d",
   "metadata": {},
   "source": [
    "問題11\n",
    "\n",
    "顧客データ（df_customer）の生年月日（birth_day）は日付型でデータを保有している。これをYYYYMMDD形式の文字列に変換し、顧客ID（customer_id）とともに5件表示せよ。\n",
    "> - YYYYMMDD形式とは例えば20240401という文字列（str型）のこと"
   ]
  },
  {
   "cell_type": "markdown",
   "id": "5408f804",
   "metadata": {},
   "source": [
    "<img src=\"https://i.gyazo.com/90dafb4cca271b0d2414654ab2ac6038.png\"  width=\"200px\">"
   ]
  },
  {
   "cell_type": "code",
   "execution_count": null,
   "id": "0907c677",
   "metadata": {},
   "outputs": [],
   "source": []
  },
  {
   "cell_type": "markdown",
   "id": "7bdfd7ab",
   "metadata": {},
   "source": [
    "問題12\n",
    "\n",
    "顧客データ（df_customer）の申し込み日（application_date）はYYYYMMDD形式の**文字列型**でデータを保有している。これを日付型（date型）に変換し、顧客ID（customer_id）とともに5件表示せよ。"
   ]
  },
  {
   "cell_type": "markdown",
   "id": "cb1f85f2",
   "metadata": {},
   "source": [
    "<img src=\"https://i.gyazo.com/a3c33845281c0f1fbe1484ef94b28c98.png\"  width=\"200px\">"
   ]
  },
  {
   "cell_type": "code",
   "execution_count": null,
   "id": "a13097e1",
   "metadata": {},
   "outputs": [],
   "source": []
  },
  {
   "cell_type": "markdown",
   "id": "8eaed75c",
   "metadata": {},
   "source": [
    "問題13\n",
    "\n",
    "レシート明細データ（df_receipt）の売上日（sales_ymd）はYYYYMMDD形式の**数値型**でデータを保有している。これを日付型に変換し、レシート番号（receipt_no）、レシートサブ番号（receipt_sub_no）とともに5件表示せよ。\n",
    "\n",
    "> - ヒント：数値型から文字列型に変換して、その後に日付型に変換する"
   ]
  },
  {
   "cell_type": "markdown",
   "id": "5d7bf2e7",
   "metadata": {},
   "source": [
    "<img src=\"https://i.gyazo.com/2319373413976bf9fe1a84d48e1919b0.png\"  width=\"200px\">"
   ]
  },
  {
   "cell_type": "code",
   "execution_count": null,
   "id": "86b82103",
   "metadata": {},
   "outputs": [],
   "source": []
  },
  {
   "cell_type": "markdown",
   "id": "294e5930",
   "metadata": {},
   "source": [
    "問題14\n",
    "\n",
    "レシート明細データ（df_receipt）に対し、店舗コード（store_cd）ごとに売上金額（amount）と売上数量（quantity）を合計せよ。また、店舗コード（store_cd）で並べ替えて最初の5件表示せよ。"
   ]
  },
  {
   "cell_type": "markdown",
   "id": "735e0f9e",
   "metadata": {},
   "source": [
    "<img src=\"https://i.gyazo.com/faa30f87295d53ede6c8c639ebfe046e.png\" width=\"200px\">"
   ]
  },
  {
   "cell_type": "code",
   "execution_count": null,
   "id": "8de50a65",
   "metadata": {},
   "outputs": [],
   "source": []
  },
  {
   "cell_type": "markdown",
   "id": "54c56753",
   "metadata": {},
   "source": [
    "問題15\n",
    "\n",
    "レシート明細データ（df_receipt）に対し、顧客ID（customer_id）ごとに最も新しい売上年月日（sales_ymd）の5件を表示せよ。"
   ]
  },
  {
   "cell_type": "markdown",
   "id": "a2811199",
   "metadata": {},
   "source": [
    "<img src=\"https://i.gyazo.com/518416a9eec4a612faf935ef451edd22.png\" width=\"200px\">"
   ]
  },
  {
   "cell_type": "code",
   "execution_count": null,
   "id": "4b3c11a5",
   "metadata": {},
   "outputs": [],
   "source": []
  },
  {
   "cell_type": "markdown",
   "id": "1c4f0081",
   "metadata": {},
   "source": [
    "問題16\n",
    "\n",
    "レシート明細データ（df_receipt）に対し、顧客ID（customer_id）ごとの最も古い売上年月日（sales_ymd）の5件を表示せよ。"
   ]
  },
  {
   "cell_type": "markdown",
   "id": "0fec97df",
   "metadata": {},
   "source": [
    "<img src=\"https://i.gyazo.com/423f835a4545d63da7181007bfc74ccd.png\" width=\"200px\">"
   ]
  },
  {
   "cell_type": "code",
   "execution_count": null,
   "id": "79491d83",
   "metadata": {},
   "outputs": [],
   "source": []
  },
  {
   "cell_type": "markdown",
   "id": "23306fd4",
   "metadata": {},
   "source": [
    "問題17\n",
    "\n",
    "レシート明細データ（df_receipt）に対し、顧客ID（customer_id）ごとに最も新しい売上年月日（sales_ymd）と古い売上年月日を示し、両者が異なるデータを5件表示せよ。ただし、顧客ID（customer_id）を昇順で並べ替えて最初の5件表示すること。"
   ]
  },
  {
   "cell_type": "markdown",
   "id": "79ad1bda",
   "metadata": {},
   "source": [
    "<img src=\"https://i.gyazo.com/acc87ff955fbb8f37b93f0e347176f2f.png\"  width=\"300px\">"
   ]
  },
  {
   "cell_type": "code",
   "execution_count": null,
   "id": "5accbfd2",
   "metadata": {},
   "outputs": [],
   "source": []
  },
  {
   "cell_type": "markdown",
   "id": "4f58e78a",
   "metadata": {},
   "source": [
    "問題18\n",
    "\n",
    "レシート明細データ（df_receipt）に対し、店舗コード（store_cd）ごとに売上金額（amount）の平均を示し、降順でTOP5を表示せよ。"
   ]
  },
  {
   "cell_type": "markdown",
   "id": "983a53a0",
   "metadata": {},
   "source": [
    "<img src=\"https://i.gyazo.com/9cc41ee9e7581e4b1bb7cd5958afaef9.png\" width=\"200px\">"
   ]
  },
  {
   "cell_type": "code",
   "execution_count": null,
   "id": "552e60fc",
   "metadata": {},
   "outputs": [],
   "source": []
  },
  {
   "cell_type": "markdown",
   "id": "da1bbf9d",
   "metadata": {},
   "source": [
    "問題19\n",
    "\n",
    "レシート明細データ（df_receipt）に対し、店舗コード（store_cd）ごとに売上金額（amount）の平均を示し、330以上のものを抽出せよ。また、店舗コード（store_cd）を昇順で並べ替えて最初の5件表示せよ。"
   ]
  },
  {
   "cell_type": "markdown",
   "id": "de3f5026",
   "metadata": {},
   "source": [
    "<img src=\"https://i.gyazo.com/8d02f74c9585350133eb158dcd50a76e.png\" width=\"200px\">"
   ]
  },
  {
   "cell_type": "code",
   "execution_count": null,
   "id": "3a15c865",
   "metadata": {},
   "outputs": [],
   "source": []
  },
  {
   "cell_type": "markdown",
   "id": "78672082",
   "metadata": {},
   "source": [
    "問題20\n",
    "\n",
    "レシート明細データ（df_receipt）に対し、顧客ID（customer_id）ごとに売上金額（amount）を合計して、その全顧客の平均を求めよ。"
   ]
  },
  {
   "cell_type": "markdown",
   "id": "3815237a",
   "metadata": {},
   "source": [
    "<img src=\"https://i.gyazo.com/a5af1c5474898c30242b8880ca5761df.png\">"
   ]
  },
  {
   "cell_type": "code",
   "execution_count": null,
   "id": "1cc65bf5",
   "metadata": {},
   "outputs": [],
   "source": []
  },
  {
   "cell_type": "markdown",
   "id": "2099a4b8",
   "metadata": {},
   "source": [
    "問題21（難易度：★★☆）\n",
    "\n",
    "顧客ID（customer_id）が\"Z\"から始まるものは非会員を表すため、除外して以下の計算をすること。レシート明細データ（df_receipt）に対し、顧客ID（customer_id）ごとに売上金額（amount）を合計した後、全顧客の平均売上金額（avg_amountに名前を変える）を示す項目を追加し、その平均売上金額（avg_amount）以上に買い物をしている顧客を抽出し、顧客ID（customer_id）を昇順で並べ替えて最初の5件表示せよ。\n",
    "\n",
    "> - ヒント：avg_amountは全顧客の合計売上金額の平均値なので全ての行で同じ値になる（赤枠部分）。それと各顧客の合計売上金額を比較する。"
   ]
  },
  {
   "cell_type": "markdown",
   "id": "dc3ca0fa",
   "metadata": {},
   "source": [
    "<img src=\"https://i.gyazo.com/e5c89880d5325b1f24268106b6001cfb.png\" width=\"300px\">"
   ]
  },
  {
   "cell_type": "code",
   "execution_count": null,
   "id": "59cfe820",
   "metadata": {},
   "outputs": [],
   "source": []
  },
  {
   "cell_type": "markdown",
   "id": "38ddc32d",
   "metadata": {},
   "source": [
    "問題22\n",
    "\n",
    "店舗コード（store_cd）をキーとして、レシート明細データ（df_receipt）と店舗データ（df_store）を内部結合し、レシート明細データ（df_receipt）の全項目と店舗データ（df_store）の店舗名（store_name）を5件表示せよ。\n",
    "\n",
    "> ※ 内部結合とは、両データに存在するキーの値で結合する方法（つまり、片方のデータにしか存在しないキーの値は結合後のデータに含まれない）"
   ]
  },
  {
   "cell_type": "markdown",
   "id": "76454ec4",
   "metadata": {},
   "source": [
    "<img src=\"https://i.gyazo.com/919d7cc43fd65ebe75082a13aeab5fd8.png\" width=70%>"
   ]
  },
  {
   "cell_type": "code",
   "execution_count": null,
   "id": "bb6919b9",
   "metadata": {},
   "outputs": [],
   "source": []
  },
  {
   "cell_type": "markdown",
   "id": "4855f45a",
   "metadata": {},
   "source": [
    "問題23\n",
    "\n",
    "カテゴリ小区分コード（category_small_cd）をキーとして、商品データ（df_product）とカテゴリデータ（df_category）を内部結合し、商品データ（df_product）の全項目とカテゴリデータ（df_category）のカテゴリ小区分名（category_small_name）を5件表示せよ。"
   ]
  },
  {
   "cell_type": "markdown",
   "id": "d137aef1",
   "metadata": {},
   "source": [
    "<img src=\"https://i.gyazo.com/3042388dabf489d75fcbc09f52a49a33.png\" width=70%>"
   ]
  },
  {
   "cell_type": "code",
   "execution_count": null,
   "id": "12fee710",
   "metadata": {},
   "outputs": [],
   "source": []
  },
  {
   "cell_type": "markdown",
   "id": "71ab9266",
   "metadata": {},
   "source": [
    "問題24（難易度：★★☆）\n",
    "\n",
    "顧客ID（customer_id）が\"Z\"から始まるものは非会員を表すため、除外して以下の計算をすること。また、顧客の性別コード（gender_cd）が女性（\"1\"）であるものを対象とする。顧客データ（df_customer）とレシート明細データ（df_receipt）を顧客コード（customer_id）で結合し、顧客ごとの売上金額合計を求め、顧客コードの順番に、性別（gender）と売上金額合計を10件表示せよ。ただし、売上実績がない顧客については売上金額を0として表示させること。\n",
    "\n",
    "> - 注意：gender_cdは数値型ではなく文字列型"
   ]
  },
  {
   "cell_type": "markdown",
   "id": "bcd29181",
   "metadata": {},
   "source": [
    "<img src=\"https://i.gyazo.com/a320b81c661983d7abd7c6f5d5160dc0.png\" width=\"250px\">"
   ]
  },
  {
   "cell_type": "code",
   "execution_count": null,
   "id": "d731ed84",
   "metadata": {},
   "outputs": [],
   "source": []
  },
  {
   "cell_type": "markdown",
   "id": "1c44af89",
   "metadata": {},
   "source": [
    "問題25（難易度：★★★）\n",
    "\n",
    "売上日数の多い顧客、もしくは売上金額合計の大きい顧客を抽出したい。そこで、レシート明細データ（df_receipt）から、売上日数（sales_ymd）が多い顧客の上位20件を抽出したデータと、売上金額（amount）の合計が大きい顧客の上位20件を抽出したデータをそれぞれ作成し、その2つを外部結合し、先頭の5件を表示せよ。ただし、非会員（顧客IDが\"Z\"から始まるもの）は除外すること。\n",
    "\n",
    "※外部結合とは、片方のデータにしか存在しないキーの値も結合後のデータに含める方法"
   ]
  },
  {
   "cell_type": "markdown",
   "id": "7d61f377",
   "metadata": {},
   "source": [
    "<img src=\"https://i.gyazo.com/e673852056870ab7bd667825155db835.png\" width=\"350px\">"
   ]
  },
  {
   "cell_type": "code",
   "execution_count": null,
   "id": "170c2e84",
   "metadata": {},
   "outputs": [],
   "source": []
  },
  {
   "cell_type": "markdown",
   "id": "e59316c2",
   "metadata": {},
   "source": [
    "問題26\n",
    "\n",
    "レシート明細データ（df_receipt）の売上金額（amount）を日付（sales_ymd）ごとに合計し、各日付のデータに対し、前回、前々回、3回前に売上があった日のデータを結合せよ。そして結果を5件表示せよ。"
   ]
  },
  {
   "cell_type": "markdown",
   "id": "0b6cd853",
   "metadata": {},
   "source": [
    "<img src=\"https://i.gyazo.com/732d8f115ee54b3fecbd7036448b4e24.png\" width=\"350px\">"
   ]
  },
  {
   "cell_type": "code",
   "execution_count": null,
   "id": "ce8b1b6e",
   "metadata": {},
   "outputs": [],
   "source": []
  },
  {
   "cell_type": "markdown",
   "id": "5b1d6211",
   "metadata": {},
   "source": [
    "問題27（難易度：★★☆）\n",
    "\n",
    "レシート明細データ（df_receipt）の売上金額（amount）を日付（sales_ymd）ごとに合計し、前回売上があった日からの売上金額増減を計算せよ。そして結果を5件表示せよ。"
   ]
  },
  {
   "cell_type": "markdown",
   "id": "7e5cf8a5",
   "metadata": {},
   "source": [
    "<img src=\"https://i.gyazo.com/c05817bec9703ae09cfb1b0ee3d06d61.png\" width=\"250px\">"
   ]
  },
  {
   "cell_type": "code",
   "execution_count": null,
   "id": "21f56e56",
   "metadata": {},
   "outputs": [],
   "source": []
  },
  {
   "cell_type": "markdown",
   "id": "ab19bb29",
   "metadata": {},
   "source": [
    "問題28（難易度：★★★）\n",
    "\n",
    "レシート明細データ（df_receipt）と顧客データ（df_customer）を顧客コード（customer_id）で結合し、性別（gender）と年代（ageが58であれば年代は50と計算する）ごとに売上金額（amount）を合計した売上サマリデータを作成せよ。\n",
    "\n",
    "ただし、縦に年代、横に性別（性別の並び順は指定しなくて良い）のクロス集計表とし、年代は10歳ごとの階級とすること。\n",
    "\n",
    "ヒント（年代について）：58//10 を実行すると5となることを利用して求めよ。"
   ]
  },
  {
   "cell_type": "markdown",
   "id": "52aa0500",
   "metadata": {},
   "source": [
    "<img src=\"https://i.gyazo.com/5c59456ba027ecc27fdd539faeb09af0.jpg\" width=\"250px\">"
   ]
  },
  {
   "cell_type": "code",
   "execution_count": null,
   "id": "159d5382",
   "metadata": {},
   "outputs": [],
   "source": []
  },
  {
   "cell_type": "markdown",
   "id": "d41afc03",
   "metadata": {},
   "source": [
    "問題29（省略OK）\n",
    "\n",
    "レシート明細データ（df_receipt）の売上金額（amount）を顧客ID（customer_id）ごとに合計の上、売上金額合計に対して2,000円以下を0、2,000円より大きい金額を1に二値化した項目を作成し、顧客ID、売上金額合計とともに5件表示せよ。ただし、顧客IDが\"Z\"から始まるのものは非会員を表すため、除外して計算すること。"
   ]
  },
  {
   "cell_type": "markdown",
   "id": "b30d3e79",
   "metadata": {},
   "source": [
    "<img src=\"https://i.gyazo.com/3eb56acb21d441c7e1478fddd2fe7d26.png\" width=\"250px\">"
   ]
  },
  {
   "cell_type": "code",
   "execution_count": null,
   "id": "66b94a47",
   "metadata": {},
   "outputs": [],
   "source": []
  },
  {
   "cell_type": "markdown",
   "id": "7ffa8e74",
   "metadata": {},
   "source": [
    "問題30（省略OK）\n",
    "\n",
    "顧客データ（df_customer）の住所（address）は、埼玉県、千葉県、東京都、神奈川県のいずれかとなっている。都道府県毎にコード値（埼玉県を11、千葉県を12、東京都を13、神奈川県を14）を示す項目（prefecture）を作成し、顧客ID、住所とともに5件表示せよ。"
   ]
  },
  {
   "cell_type": "markdown",
   "id": "e3136902",
   "metadata": {},
   "source": [
    "<img src=\"https://i.gyazo.com/d22630dd7f8202984e2d600f9323a6c9.png\" width=\"350px\">"
   ]
  },
  {
   "cell_type": "code",
   "execution_count": null,
   "id": "a30632e0",
   "metadata": {},
   "outputs": [],
   "source": []
  },
  {
   "cell_type": "markdown",
   "id": "751f452c",
   "metadata": {},
   "source": [
    "問題31（省略OK）\n",
    "\n",
    "顧客データ（df_customer）の年齢（age）をもとに10歳刻みで年代を算出し、顧客ID（customer_id）、生年月日（birth_day）とともに5件表示せよ。ただし、60歳以上は全て60歳代とすること。年代を表すカテゴリ名は任意とする。"
   ]
  },
  {
   "cell_type": "markdown",
   "id": "0fcc98ef",
   "metadata": {},
   "source": [
    "<img src=\"https://i.gyazo.com/167c7c7aeb98b15185296a262b9687bb.png\" width=\"250px\">"
   ]
  },
  {
   "cell_type": "code",
   "execution_count": null,
   "id": "6c7bce3a",
   "metadata": {},
   "outputs": [],
   "source": []
  },
  {
   "cell_type": "markdown",
   "id": "b4b8c849",
   "metadata": {},
   "source": [
    "問題32（難易度：★★★）\n",
    "\n",
    "レシート明細データ（df_receipt）の売上金額（amount）を顧客ID（customer_id）ごとに合計した項目（total_amount）を作成し、その売上金額合計の全顧客の平均との差を示す項目（amount_diff）を作成し、顧客IDの順番に5件表示せよ。ただし、顧客IDが\"Z\"から始まるのものは非会員を表すため、除外して計算すること。"
   ]
  },
  {
   "cell_type": "markdown",
   "id": "e75d8a74",
   "metadata": {},
   "source": [
    "<img src=\"https://i.gyazo.com/2dadd138ef43f10e381b1989176b655b.png\" width=\"300px\">"
   ]
  },
  {
   "cell_type": "code",
   "execution_count": null,
   "id": "dbf5256c",
   "metadata": {},
   "outputs": [],
   "source": []
  },
  {
   "cell_type": "markdown",
   "id": "b7620c08",
   "metadata": {},
   "source": [
    "問題33\n",
    "\n",
    "商品データ（df_product）の単価（unit_price）と原価（unit_cost）から各商品の利益額を示す項目（unit_profit）を追加し、結果を5\n",
    "件表示せよ。"
   ]
  },
  {
   "cell_type": "markdown",
   "id": "3c00cad1",
   "metadata": {},
   "source": [
    "<img src=\"https://i.gyazo.com/0f76d3c2a7b6ea1d294651268ef4e120.png\" width=70%>"
   ]
  },
  {
   "cell_type": "code",
   "execution_count": null,
   "id": "5d49b584",
   "metadata": {},
   "outputs": [],
   "source": []
  },
  {
   "cell_type": "markdown",
   "id": "c94a9bcf",
   "metadata": {},
   "source": [
    "問題34\n",
    "\n",
    "商品データ（df_product）の単価（unit_price）と原価（unit_cost）から、各商品の利益率を求め、その全体平均を算出せよ。"
   ]
  },
  {
   "cell_type": "markdown",
   "id": "a58f5888",
   "metadata": {},
   "source": [
    "<img src=\"https://i.gyazo.com/27d324f153382527682b45e75080553f.png\">"
   ]
  },
  {
   "cell_type": "code",
   "execution_count": null,
   "id": "c314aa7c",
   "metadata": {},
   "outputs": [],
   "source": []
  },
  {
   "cell_type": "markdown",
   "id": "8e1296ce",
   "metadata": {},
   "source": [
    "問題35（難易度：★★☆）\n",
    "\n",
    "商品データ（df_product）の各商品について、利益率が30%となるような新たな単価（new_price）を示す項目を追加せよ。ただし、1円未満は切り捨てること。そして、新たな単価（new_price）による新たな利益率（new_profit_rate）を示す項目を追加して、およそ30％付近であることを5件表示して確認せよ。\n",
    "\n",
    "> - ヒント1：利益率30％となる単価は「コスト / 0.7」で求める\n",
    "> - ヒント2：切り捨ては「.floor()」を用いる"
   ]
  },
  {
   "cell_type": "markdown",
   "id": "a00685ba",
   "metadata": {},
   "source": [
    "<img src=\"https://i.gyazo.com/2a7a0fa1ff01885ab017e983b0517411.png\" width=70%>"
   ]
  },
  {
   "cell_type": "code",
   "execution_count": null,
   "id": "dad8b1fa",
   "metadata": {},
   "outputs": [],
   "source": []
  },
  {
   "cell_type": "markdown",
   "id": "d9b1f51d",
   "metadata": {},
   "source": [
    "問題36\n",
    "\n",
    "商品データ（df_product）の各商品について、消費税率10％の税込み金額を示す項目（tax_price）を追加せよ。1円未満の端数は切り捨てとし、結果を5件表示せよ。"
   ]
  },
  {
   "cell_type": "markdown",
   "id": "0621f9e7",
   "metadata": {},
   "source": [
    "<img src=\"https://i.gyazo.com/c649004624b96510b9342f0c955b8516.png\"  width=\"250px\">"
   ]
  },
  {
   "cell_type": "code",
   "execution_count": null,
   "id": "4aa824a2",
   "metadata": {},
   "outputs": [],
   "source": []
  },
  {
   "cell_type": "markdown",
   "id": "c2dbb6e2",
   "metadata": {},
   "source": [
    "問題37（難易度：★★☆）\n",
    "\n",
    "レシート明細データ（df_receipt）と商品データ（df_product）を商品コード（product_cd）で内部結合し、顧客毎に全商品の売上金額合計（total_amount）と、カテゴリ大区分コード（category_major_cd）が\"07\"（瓶詰缶詰）の売上金額合計（total_amount_07）を示す項目を追加せよ。また、その両者の比率を示す項目（sales_rate）も追加し、顧客コードの順番に5件表示せよ。"
   ]
  },
  {
   "cell_type": "markdown",
   "id": "cd6c924b",
   "metadata": {},
   "source": [
    "<img src=\"https://i.gyazo.com/ec83d3cf8f69553b8a8ee18565e33b27.png\" width=\"350px\">"
   ]
  },
  {
   "cell_type": "code",
   "execution_count": null,
   "id": "bb9ef370",
   "metadata": {},
   "outputs": [],
   "source": []
  },
  {
   "cell_type": "markdown",
   "id": "a5becc0f",
   "metadata": {},
   "source": [
    "問題38（難易度：★★☆）\n",
    "\n",
    "レシート明細データ（df_receipt）の売上日（sales_ymd）に対し、顧客データ（df_customer）の会員申込日（application_date）からの経過日数を示す項目（elapsed_days）を追加し、顧客ID（customer_id）、売上日、会員申込日とともにせよ。\n",
    "ただし、経過日数は顧客ごとに「最新の売上日」と「会員申込日」との差で計算すること。\n",
    "\n",
    "また、顧客ID順で最初の5件を表示せよ。\n",
    "\n",
    "> - ヒント1：まずは各顧客の最新の売上日（売上日の最大値）を示す項目（last_ymd）を計算する。\n",
    "> - ヒント2：sales_ymdは数値、application_dateは文字列でデータを保持している点に注意。そして経過日数はdate型同士で計算すること。"
   ]
  },
  {
   "cell_type": "markdown",
   "id": "88931648",
   "metadata": {},
   "source": [
    "<img src=\"https://i.gyazo.com/3849c05f2c5135f1427c0395789e5ee6.png\" width=\"400px\">"
   ]
  },
  {
   "cell_type": "code",
   "execution_count": null,
   "id": "644ebfd6",
   "metadata": {},
   "outputs": [],
   "source": []
  },
  {
   "cell_type": "markdown",
   "id": "d3ff4e4a",
   "metadata": {},
   "source": [
    "問題39\n",
    "\n",
    "顧客データ（df_customer）からランダムに1%のデータを抽出し、先頭から5件表示せよ。"
   ]
  },
  {
   "cell_type": "markdown",
   "id": "d0921084",
   "metadata": {},
   "source": [
    "<img src=\"https://i.gyazo.com/fba779ef5d6e29e0aeaf9717abf1c503.png\" width=80%>"
   ]
  },
  {
   "cell_type": "code",
   "execution_count": null,
   "id": "00b34754",
   "metadata": {},
   "outputs": [],
   "source": []
  },
  {
   "cell_type": "markdown",
   "id": "948002ae",
   "metadata": {},
   "source": [
    "問題40\n",
    "\n",
    "顧客データ（df_customer）からランダムに5件のデータを表示せよ。"
   ]
  },
  {
   "cell_type": "markdown",
   "id": "4457cae4",
   "metadata": {},
   "source": [
    "<img src=\"https://i.gyazo.com/9d1582a46305ccf4b2d0ba130c7023fe.png\" width=80%>"
   ]
  },
  {
   "cell_type": "code",
   "execution_count": null,
   "id": "abfcae1f",
   "metadata": {},
   "outputs": [],
   "source": []
  },
  {
   "cell_type": "markdown",
   "id": "0f8855e2",
   "metadata": {},
   "source": [
    "問題41\n",
    "\n",
    "顧客データ（df_customer）から性別（gender）ごとの件数を表示せよ。"
   ]
  },
  {
   "cell_type": "markdown",
   "id": "eb1ba53d",
   "metadata": {},
   "source": [
    "<img src=\"https://i.gyazo.com/ac3ad3f012090c4f793a2dadfa772ee9.png\" width=\"150px\">"
   ]
  },
  {
   "cell_type": "code",
   "execution_count": null,
   "id": "71ceda6f",
   "metadata": {},
   "outputs": [],
   "source": []
  },
  {
   "cell_type": "markdown",
   "id": "8f95cfcf",
   "metadata": {},
   "source": [
    "問題42（難易度：★★☆）\n",
    "\n",
    "レシート明細データ（df_receipt）の売上金額を顧客単位に合計し、合計した売上金額の外れ値を抽出せよ。なお、外れ値は、各顧客の売上金額合計が、全顧客の売上金合計の平均から3σを超えて離れたものとする。\n",
    "\n",
    "> - ヒント1：絶対値「.abs()」を用いるとシンプルになる。\n",
    "> - σは「pl.col(\"amount).std()」で計算できる。"
   ]
  },
  {
   "cell_type": "markdown",
   "id": "59a7c463",
   "metadata": {},
   "source": [
    "<img src=\"https://i.gyazo.com/14db3c4f811edf641d1901619fbcac88.png\">"
   ]
  },
  {
   "cell_type": "code",
   "execution_count": null,
   "id": "f7cb0357",
   "metadata": {},
   "outputs": [],
   "source": []
  },
  {
   "cell_type": "markdown",
   "id": "0195e98e",
   "metadata": {},
   "source": [
    "問題43\n",
    "\n",
    "商品データ（df_product）の各項目に対し、欠損数を確認せよ。"
   ]
  },
  {
   "cell_type": "markdown",
   "id": "474586f2",
   "metadata": {},
   "source": [
    "<img src=\"https://i.gyazo.com/11ba9e841b970b8faaaa5639e6841d34.png\" width=70%>"
   ]
  },
  {
   "cell_type": "code",
   "execution_count": null,
   "id": "fb041f8d",
   "metadata": {},
   "outputs": [],
   "source": []
  },
  {
   "cell_type": "markdown",
   "id": "3cdc5974",
   "metadata": {},
   "source": [
    "問題44\n",
    "\n",
    "商品データ（df_product）のいずれかの項目に欠損が発生しているレコードを全て削除した商品データを作成せよ。なお、削除前後の件数をそれぞれ表示して、一つ前の問題で確認した件数だけ減少していることも確認すること。"
   ]
  },
  {
   "cell_type": "markdown",
   "id": "6b1c21d4",
   "metadata": {},
   "source": [
    "<img src=\"https://i.gyazo.com/fe6905b13c8ad447f22972bb4215a29c.png\">"
   ]
  },
  {
   "cell_type": "code",
   "execution_count": null,
   "id": "96b84867",
   "metadata": {},
   "outputs": [],
   "source": []
  },
  {
   "cell_type": "markdown",
   "id": "6d74ee07",
   "metadata": {},
   "source": [
    "問題45（難易度：★★☆）\n",
    "\n",
    "レシート明細データ（df_receipt）の各顧客に対して、全期間の売上金額に占める2019年売上金額の割合を示す項目（amount_rate）を追加せよ。顧客ID順に5件示せ。\n",
    "\n",
    "> - ヒント1：全期間の売上金額と2019年の売上金額を顧客単位でそれぞれ合計してから計算すること。\n",
    "> - ヒント2：df_receiptのsales_ymdはYYYYMMDD形式の数値でデータを保有している点に注意。"
   ]
  },
  {
   "cell_type": "markdown",
   "id": "998b402c",
   "metadata": {},
   "source": [
    "<img src=\"https://i.gyazo.com/05c1056cced409ab8301995bd1f22dc9.png\"  width=\"400px\">"
   ]
  },
  {
   "cell_type": "code",
   "execution_count": null,
   "id": "96552881",
   "metadata": {},
   "outputs": [],
   "source": []
  },
  {
   "cell_type": "markdown",
   "id": "6d2da945",
   "metadata": {},
   "source": [
    "### ここからはグラフ表示に関する問題です。"
   ]
  },
  {
   "cell_type": "markdown",
   "id": "31ac40f9",
   "metadata": {},
   "source": [
    "問題46\n",
    "\n",
    "顧客データ（df_customer）から性別（gender）ごとの顧客数を棒グラフで示せ。ただし、顧客数の多い順番で性別を並べ替えて表示すること。横軸の目盛に性別が表示されるように気を付ける。"
   ]
  },
  {
   "cell_type": "markdown",
   "id": "c927a0a5",
   "metadata": {},
   "source": [
    "<img src=\"https://i.gyazo.com/29c5b71b89c0a11e380cd3adf7ffade2.png\" width=\"300px\">"
   ]
  },
  {
   "cell_type": "code",
   "execution_count": null,
   "id": "73fe7612",
   "metadata": {},
   "outputs": [],
   "source": []
  },
  {
   "cell_type": "markdown",
   "id": "8db334e6",
   "metadata": {},
   "source": [
    "問題47\n",
    "\n",
    "レシート明細データ（df_receipt）の顧客（customer_id）ごとの売上金額（amount）を棒グラフで示せ。ただし、顧客IDが\"Z\"から始まるものは非会員を表すため、除外して計算し、売上金額合計の大きい上位10顧客を表示すること。\n",
    "\n",
    "また、グラフのタイトル、X軸、Y軸のラベル、グラフサイズは以下とすること。\n",
    "- タイトル：売上合計上位10顧客\n",
    "- X軸ラベル：顧客ID\n",
    "- Y軸ラベル：合計金額\n",
    "- グラフサイズ：8x3\n"
   ]
  },
  {
   "cell_type": "markdown",
   "id": "c1a9ca8c",
   "metadata": {},
   "source": [
    "<img src=\"https://i.gyazo.com/76bdec3e9ff0f6f4bddd22dd55cd76e6.png\" width=\"400px\">"
   ]
  },
  {
   "cell_type": "code",
   "execution_count": null,
   "id": "9227ea57",
   "metadata": {},
   "outputs": [],
   "source": []
  },
  {
   "cell_type": "markdown",
   "id": "536546c6",
   "metadata": {},
   "source": [
    "問題48（難易度：★★☆）\n",
    "\n",
    "レシート明細データ（df_receipt）において、顧客（customer_id）ごとの年ごとの売上金額（amount）の合計を棒グラフで示せ。グラフには10件ほどの顧客を示せば良い。ただし、年ごとの売上合計は個々の顧客において積み上げグラフとして示すこと。 \n",
    "\n",
    "> - ヒント1：まずは売上日（sales_ymd: 数値型）をもとに売上年を表す項目（sales_year）を作成する\n",
    "> - ヒント2：顧客ごとの売上年ごとの売上合計金額を集計する\n",
    "> - ヒント3：行を顧客ID、列を売上年、値を売上合計とする表に変換する"
   ]
  },
  {
   "cell_type": "markdown",
   "id": "fbb35ddb",
   "metadata": {},
   "source": [
    "<img src=\"https://i.gyazo.com/064b66492184090c3a7090896a5f07dd.png\" width=\"400px\">\n",
    "<img src=\"https://i.gyazo.com/c5d1103e1cd5cbcf1c043abd4835f4d9.png\" width=\"400px\">"
   ]
  },
  {
   "cell_type": "code",
   "execution_count": null,
   "id": "527b5edf",
   "metadata": {},
   "outputs": [],
   "source": []
  },
  {
   "cell_type": "markdown",
   "id": "bdeec6f4",
   "metadata": {},
   "source": [
    "問題49（難易度：★★☆）\n",
    "\n",
    "レシート明細データ（df_receipt）の売上日（sales_ymd）ごとの売上金額（amount）の合計を折れ線グラフで示せ。ただし、売上日が2019年1月1日から2019年3月31日までのデータを対象とする。グラフのマーカーとラインは以下とすること。\n",
    "> - ライン：点線（--）\n",
    "> - マーカー：丸（o）\n",
    "\n",
    "> ヒント：sales_ymdは数値型なのでこのままでは下のグラフのようにはならない。型の変換が必要。"
   ]
  },
  {
   "cell_type": "markdown",
   "id": "e8723523",
   "metadata": {},
   "source": [
    "<img src=\"https://i.gyazo.com/6e4aae9f376eb3f9a0ea2d3882c598c8.png\" width=\"400px\">"
   ]
  },
  {
   "cell_type": "code",
   "execution_count": null,
   "id": "0b517c6e",
   "metadata": {},
   "outputs": [],
   "source": []
  },
  {
   "cell_type": "markdown",
   "id": "0ed4ec8d",
   "metadata": {},
   "source": [
    "問題50（難易度：★★★）\n",
    "\n",
    "レシート明細データ（df_receipt）の売上日（sales_ymd）ごとの売上金額（amount）と売上数量（quantity）をそれぞれ折れ線グラフで示せ。ただし、金額と数量は単位が異なるため、左の縦軸を合計金額、右の縦軸を合計数量としてグラフにすること。対象は、売上日が2019年1月1日から2019年1月31日までのデータをとする。グラフは以下の設定にしたがうこと。\n",
    "> - ライン：点線（--）\n",
    "> - マーカー：丸（o）\n",
    "> - 凡例の位置：売上金額は左上、売上数量は右上"
   ]
  },
  {
   "cell_type": "markdown",
   "id": "d5a02740",
   "metadata": {},
   "source": [
    "<img src=\"https://i.gyazo.com/8884d67db2037e80d16d2e86e7415088.png\" width=\"450px\">"
   ]
  },
  {
   "cell_type": "code",
   "execution_count": null,
   "id": "53c2c28a",
   "metadata": {},
   "outputs": [],
   "source": []
  }
 ],
 "metadata": {
  "kernelspec": {
   "display_name": "pos_analysis",
   "language": "python",
   "name": "python3"
  },
  "language_info": {
   "codemirror_mode": {
    "name": "ipython",
    "version": 3
   },
   "file_extension": ".py",
   "mimetype": "text/x-python",
   "name": "python",
   "nbconvert_exporter": "python",
   "pygments_lexer": "ipython3",
   "version": "3.11.13"
  }
 },
 "nbformat": 4,
 "nbformat_minor": 5
}
